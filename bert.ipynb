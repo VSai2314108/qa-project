{
 "cells": [
  {
   "cell_type": "code",
   "execution_count": 106,
   "metadata": {},
   "outputs": [],
   "source": [
    "import os\n",
    "import torch\n",
    "from torch import nn\n",
    "from torch.utils.data import DataLoader, Dataset\n",
    "from transformers import BertTokenizer, BertModel, AdamW, get_linear_schedule_with_warmup\n",
    "from sklearn.model_selection import train_test_split\n",
    "from sklearn.metrics import accuracy_score, classification_report\n",
    "import pandas as pd"
   ]
  },
  {
   "cell_type": "code",
   "execution_count": 107,
   "metadata": {},
   "outputs": [],
   "source": [
    "hc = [\n",
    "    'what is the role of a primary care physician',\n",
    "    'how do vaccines work in our body',\n",
    "    'how does a healthy diet impact your overall health',\n",
    "    'what is the best way to maintain a healthy weight',\n",
    "    'can you explain the different types of health insurance plans',\n",
    "    'what are the benefits of regular exercise',\n",
    "    'how does stress affect the body',\n",
    "    'how often should i get a general health checkup',\n",
    "    'how important is sleep for health',\n",
    "    'what are the common symptoms of diabetes',\n",
    "    'can you explain the health risks of obesity',\n",
    "    'what is telemedicine',\n",
    "    'how does mental health affect physical health',\n",
    "    'what are some ways to prevent heart disease',\n",
    "    'can you explain the concept of herd immunity',\n",
    "    'what are the most common mental health disorders',\n",
    "    'how does smoking affect the lungs',\n",
    "    'what are the health risks of high cholesterol',\n",
    "    'what is the difference between type one and type two diabetes',\n",
    "    'can you explain the health benefits of yoga',\n",
    "    'what is the role of genetics in health',\n",
    "    'what are the early signs of alzheimers disease',\n",
    "    'how can i protect my skin from the sun',\n",
    "    'how does hypertension affect the body',\n",
    "    'what are some strategies for managing chronic pain',\n",
    "    'what is the human microbiome and how does it affect health',\n",
    "    'what is the role of the world health organization',\n",
    "    'how can diet affect mental health',\n",
    "    'what are the early symptoms of parkinsons disease',\n",
    "    'can you explain the different types of cancer',\n",
    "    'how important is early detection in cancer',\n",
    "    'what is the connection between gut health and mood',\n",
    "    'what is the effect of climate change on health',\n",
    "    'what are the benefits of breastfeeding',\n",
    "    'how can a pregnant woman ensure the health of her baby',\n",
    "    'what are the health risks of alcohol consumption',\n",
    "    'what are the symptoms of a stroke',\n",
    "    'how is hiv transmitted',\n",
    "    'what are some preventive measures against the common cold',\n",
    "    'how can i improve my dental health',\n",
    "    'what are the benefits of regular eye checkups',\n",
    "    'what is osteoporosis and how can it be prevented',\n",
    "    'what are the risk factors for heart disease',\n",
    "    'what are the symptoms of a heart attack in women',\n",
    "    'how can i increase my bone density',\n",
    "    'what is palliative care',\n",
    "    'what are the common causes of hair loss',\n",
    "    'what is the role of antioxidants in health',\n",
    "    'how does air pollution affect our health',\n",
    "    'what are some strategies to quit smoking',\n",
    "    'how does regular physical activity benefit mental health',\n",
    "    'what is the difference between a dietitian and a nutritionist',\n",
    "    'how is autism diagnosed',\n",
    "    'how can you manage the symptoms of adhd',\n",
    "    'what are the health benefits of drinking water',\n",
    "    'how does exposure to secondhand smoke affect health',\n",
    "    'what are the symptoms of lung cancer',\n",
    "    'what is the role of probiotics in gut health',\n",
    "    'how does menopause affect a womans health',\n",
    "    'what are the health benefits of green tea',\n",
    "    'what is the function of the liver in the human body',\n",
    "    'what are the early signs of liver disease',\n",
    "    'what is the impact of high blood sugar levels',\n",
    "    'how is depression diagnosed and treated',\n",
    "    'what is the difference between dementia and alzheimers',\n",
    "    'how can lifestyle changes help manage type two diabetes',\n",
    "    'what is bipolar disorder',\n",
    "    'what is the difference between an allergy and an intolerance'\n",
    "]\n",
    "\n",
    "nhc = [\n",
    "    'what is the capital of australia',\n",
    "    'who wrote the book pride and prejudice',\n",
    "    'what is the tallest mountain in the world',\n",
    "    'how deep is the mariana trench',\n",
    "    'what is the speed of light',\n",
    "    'who painted the mona lisa',\n",
    "    'what is quantum physics',\n",
    "    'who is the current president of the united states',\n",
    "    'how old is the earth',\n",
    "    'what is the largest planet in our solar system',\n",
    "    'who won the oscar for best picture in 2020',\n",
    "    'what is the longest river in the world',\n",
    "    'who discovered penicillin',\n",
    "    'what is the square root of 144',\n",
    "    'what is the largest ocean in the world',\n",
    "    'how far is the moon from the earth',\n",
    "    'who invented the telephone',\n",
    "    'what is the population of china',\n",
    "    'how many countries are there in the world',\n",
    "    'who composed the fifth symphony',\n",
    "    'what is the tallest building in the world',\n",
    "    'what is the chemical formula for water',\n",
    "    'who is the richest person in the world',\n",
    "    'what is the highest waterfall in the world',\n",
    "    'who is the current prime minister of the united kingdom',\n",
    "    'what is the largest country by land area',\n",
    "    'what is the fastest animal on land',\n",
    "    'who directed the movie titanic',\n",
    "    'how old is the universe',\n",
    "    'what is the hottest planet in our solar system',\n",
    "    'who won the world cup in soccer in 2018',\n",
    "    'what is the capital of canada',\n",
    "    'who wrote the novel 1984',\n",
    "    'what is the theory of relativity',\n",
    "    'who is the current secretary general of the united nations',\n",
    "    'how old is the great wall of china',\n",
    "    'what is the smallest planet in our solar system',\n",
    "    'who painted the starry night',\n",
    "    'what is the boiling point of water at sea level',\n",
    "    'who is the current chancellor of germany',\n",
    "    'how long is the amazon river',\n",
    "    'who discovered gravity',\n",
    "    'what is the cube root of 27',\n",
    "    'what is the smallest ocean in the world',\n",
    "    'how far is the sun from the earth',\n",
    "    'who invented the light bulb',\n",
    "    'what is the population of india',\n",
    "    'how many states are there in the united states',\n",
    "    'who composed the magic flute',\n",
    "    'what is the longest bridge in the world',\n",
    "    'what is the chemical formula for carbon dioxide',\n",
    "    'who is the current queen of the united kingdom'\n",
    "]"
   ]
  },
  {
   "cell_type": "code",
   "execution_count": 108,
   "metadata": {},
   "outputs": [],
   "source": [
    "def load_data():\n",
    "    text = hc + nhc\n",
    "    labels = [1] * len(hc) + [0] * len(nhc)\n",
    "    return text, labels\n",
    "\n",
    "texts, labels = load_data()"
   ]
  },
  {
   "cell_type": "code",
   "execution_count": 109,
   "metadata": {},
   "outputs": [],
   "source": [
    "class TextClassificationDataset(Dataset):\n",
    "    def __init__(self, texts, labels, tokenizer, max_length):\n",
    "            self.texts = texts\n",
    "            self.labels = labels\n",
    "            self.tokenizer = tokenizer\n",
    "            self.max_length = max_length\n",
    "    def __len__(self):\n",
    "        return len(self.texts)\n",
    "    def __getitem__(self, idx):\n",
    "        text = self.texts[idx]\n",
    "        label = self.labels[idx]\n",
    "        encoding = self.tokenizer(text, return_tensors='pt', max_length=self.max_length, padding='max_length', truncation=True)\n",
    "        return {'input_ids': encoding['input_ids'].flatten(), 'attention_mask': encoding['attention_mask'].flatten(), 'label': torch.tensor(label)}"
   ]
  },
  {
   "cell_type": "code",
   "execution_count": 110,
   "metadata": {},
   "outputs": [],
   "source": [
    "class BERTClassifier(nn.Module):\n",
    "    def __init__(self, bert_model_name, num_classes):\n",
    "        super(BERTClassifier, self).__init__()\n",
    "        self.bert = BertModel.from_pretrained(bert_model_name)\n",
    "        self.dropout = nn.Dropout(0.1)\n",
    "        self.fc = nn.Linear(self.bert.config.hidden_size, num_classes)\n",
    "\n",
    "    def forward(self, input_ids, attention_mask):\n",
    "            outputs = self.bert(input_ids=input_ids, attention_mask=attention_mask)\n",
    "            pooled_output = outputs.pooler_output\n",
    "            x = self.dropout(pooled_output)\n",
    "            logits = self.fc(x)\n",
    "            return logits"
   ]
  },
  {
   "cell_type": "code",
   "execution_count": 111,
   "metadata": {},
   "outputs": [],
   "source": [
    "def train(model: BERTClassifier, data_loader, optimizer, scheduler, device):\n",
    "    model.train()\n",
    "    for batch in data_loader:\n",
    "        optimizer.zero_grad()\n",
    "        input_ids = batch['input_ids'].to(device)\n",
    "        attention_mask = batch['attention_mask'].to(device)\n",
    "        labels = batch['label'].to(device)\n",
    "        outputs = model(input_ids, attention_mask)\n",
    "        loss = nn.CrossEntropyLoss()(outputs, labels)\n",
    "        loss.backward()\n",
    "        optimizer.step()\n",
    "        scheduler.step()"
   ]
  },
  {
   "cell_type": "code",
   "execution_count": 112,
   "metadata": {},
   "outputs": [],
   "source": [
    "def evaluate(model, data_loader, device):\n",
    "    model.eval()\n",
    "    predictions = []\n",
    "    actual_labels = []\n",
    "    with torch.no_grad():\n",
    "        for batch in data_loader:\n",
    "            input_ids = batch['input_ids'].to(device)\n",
    "            attention_mask = batch['attention_mask'].to(device)\n",
    "            labels = batch['label'].to(device)\n",
    "            outputs = model(input_ids=input_ids, attention_mask=attention_mask)\n",
    "            _, preds = torch.max(outputs, dim=1)\n",
    "            predictions.extend(preds.cpu().tolist())\n",
    "            actual_labels.extend(labels.cpu().tolist())\n",
    "    return accuracy_score(actual_labels, predictions), classification_report(actual_labels, predictions)"
   ]
  },
  {
   "cell_type": "code",
   "execution_count": 113,
   "metadata": {},
   "outputs": [],
   "source": [
    "def predict(text, model, tokenizer, device, max_length=128):\n",
    "    model.eval()\n",
    "    encoding = tokenizer(text, return_tensors='pt', max_length=max_length, padding='max_length', truncation=True)\n",
    "    input_ids = encoding['input_ids'].to(device)\n",
    "    attention_mask = encoding['attention_mask'].to(device)\n",
    "\n",
    "    with torch.no_grad():\n",
    "        outputs = model(input_ids=input_ids, attention_mask=attention_mask)\n",
    "        _, preds = torch.max(outputs, dim=1)\n",
    "        return \"medical\" if preds.item() == 1 else \"non-medical\""
   ]
  },
  {
   "cell_type": "code",
   "execution_count": 114,
   "metadata": {},
   "outputs": [],
   "source": [
    "# Set up parameters\n",
    "bert_model_name = 'bert-base-uncased'\n",
    "num_classes = 2\n",
    "max_length = 128\n",
    "batch_size = 16\n",
    "num_epochs = 4\n",
    "learning_rate = 2e-5"
   ]
  },
  {
   "cell_type": "code",
   "execution_count": 115,
   "metadata": {},
   "outputs": [],
   "source": [
    "train_texts, val_texts, train_labels, val_labels = train_test_split(texts, labels, test_size=0.2, random_state=42)"
   ]
  },
  {
   "cell_type": "code",
   "execution_count": 116,
   "metadata": {},
   "outputs": [],
   "source": [
    "tokenizer = BertTokenizer.from_pretrained(bert_model_name)\n",
    "train_dataset = TextClassificationDataset(train_texts, train_labels, tokenizer, max_length)\n",
    "val_dataset = TextClassificationDataset(val_texts, val_labels, tokenizer, max_length)\n",
    "train_dataloader = DataLoader(train_dataset, batch_size=batch_size, shuffle=True)\n",
    "val_dataloader = DataLoader(val_dataset, batch_size=batch_size)"
   ]
  },
  {
   "cell_type": "code",
   "execution_count": 117,
   "metadata": {},
   "outputs": [],
   "source": [
    "device = torch.device(\"cuda\" if torch.cuda.is_available() else \"cpu\")\n",
    "model = BERTClassifier(bert_model_name, num_classes).to(device)"
   ]
  },
  {
   "cell_type": "code",
   "execution_count": 118,
   "metadata": {},
   "outputs": [
    {
     "name": "stderr",
     "output_type": "stream",
     "text": [
      "/Users/vsai23/Workspace/qa-project/.venv/lib/python3.10/site-packages/transformers/optimization.py:411: FutureWarning: This implementation of AdamW is deprecated and will be removed in a future version. Use the PyTorch implementation torch.optim.AdamW instead, or set `no_deprecation_warning=True` to disable this warning\n",
      "  warnings.warn(\n"
     ]
    }
   ],
   "source": [
    "optimizer = AdamW(model.parameters(), lr=learning_rate)\n",
    "total_steps = len(train_dataloader) * num_epochs\n",
    "scheduler = get_linear_schedule_with_warmup(optimizer, num_warmup_steps=0, num_training_steps=total_steps)"
   ]
  },
  {
   "cell_type": "code",
   "execution_count": 119,
   "metadata": {},
   "outputs": [
    {
     "name": "stdout",
     "output_type": "stream",
     "text": [
      "Epoch 1/4\n",
      "Validation Accuracy: 0.9583\n",
      "              precision    recall  f1-score   support\n",
      "\n",
      "           0       1.00      0.88      0.93         8\n",
      "           1       0.94      1.00      0.97        16\n",
      "\n",
      "    accuracy                           0.96        24\n",
      "   macro avg       0.97      0.94      0.95        24\n",
      "weighted avg       0.96      0.96      0.96        24\n",
      "\n",
      "Epoch 2/4\n",
      "Validation Accuracy: 0.9583\n",
      "              precision    recall  f1-score   support\n",
      "\n",
      "           0       0.89      1.00      0.94         8\n",
      "           1       1.00      0.94      0.97        16\n",
      "\n",
      "    accuracy                           0.96        24\n",
      "   macro avg       0.94      0.97      0.95        24\n",
      "weighted avg       0.96      0.96      0.96        24\n",
      "\n",
      "Epoch 3/4\n",
      "Validation Accuracy: 0.9583\n",
      "              precision    recall  f1-score   support\n",
      "\n",
      "           0       0.89      1.00      0.94         8\n",
      "           1       1.00      0.94      0.97        16\n",
      "\n",
      "    accuracy                           0.96        24\n",
      "   macro avg       0.94      0.97      0.95        24\n",
      "weighted avg       0.96      0.96      0.96        24\n",
      "\n",
      "Epoch 4/4\n",
      "Validation Accuracy: 0.9583\n",
      "              precision    recall  f1-score   support\n",
      "\n",
      "           0       0.89      1.00      0.94         8\n",
      "           1       1.00      0.94      0.97        16\n",
      "\n",
      "    accuracy                           0.96        24\n",
      "   macro avg       0.94      0.97      0.95        24\n",
      "weighted avg       0.96      0.96      0.96        24\n",
      "\n"
     ]
    }
   ],
   "source": [
    "for epoch in range(num_epochs):\n",
    "        print(f\"Epoch {epoch + 1}/{num_epochs}\")\n",
    "        train(model, train_dataloader, optimizer, scheduler, device)\n",
    "        accuracy, report = evaluate(model, val_dataloader, device)\n",
    "        print(f\"Validation Accuracy: {accuracy:.4f}\")\n",
    "        print(report)"
   ]
  },
  {
   "cell_type": "code",
   "execution_count": 120,
   "metadata": {},
   "outputs": [],
   "source": [
    "torch.save(model.state_dict(), \"bert_classifier.pth\")"
   ]
  },
  {
   "cell_type": "code",
   "execution_count": 121,
   "metadata": {},
   "outputs": [
    {
     "name": "stdout",
     "output_type": "stream",
     "text": [
      "Why is my blood pressure high?\n",
      "Predicted: medical\n"
     ]
    }
   ],
   "source": [
    "test_text = \"Why is my blood pressure high?\"\n",
    "classification = predict(test_text, model, tokenizer, device)\n",
    "print(test_text)\n",
    "print(f\"Predicted: {classification}\")"
   ]
  }
 ],
 "metadata": {
  "kernelspec": {
   "display_name": ".venv",
   "language": "python",
   "name": "python3"
  },
  "language_info": {
   "codemirror_mode": {
    "name": "ipython",
    "version": 3
   },
   "file_extension": ".py",
   "mimetype": "text/x-python",
   "name": "python",
   "nbconvert_exporter": "python",
   "pygments_lexer": "ipython3",
   "version": "3.10.9"
  },
  "orig_nbformat": 4
 },
 "nbformat": 4,
 "nbformat_minor": 2
}
